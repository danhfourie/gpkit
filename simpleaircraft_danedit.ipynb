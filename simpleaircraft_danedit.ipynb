{
 "cells": [
  {
   "cell_type": "markdown",
   "metadata": {},
   "source": [
    "# GPkit Example: Simple Aircraft Modeling\n",
    "-----------------------------------\n",
    "\n",
    "_Based on \"Geometric Programming for Aircraft Design Optimization\" by Hoburg and Abbeel, and using [GPkit](https://github.com/appliedopt/gpkit) for model representation and solver interfacing._\n",
    "\n",
    "### Design objective\n",
    "\n",
    "An airplane with that consumes as little fuel as possible when cruising (while remaining capable of taking off from the ground, with wings that won't break, etc.)\n",
    "\n",
    "## 1. Set up the modeling environment\n",
    "\n",
    "Start by importing Numpy and GPkit, and turning on LaTex printing for GPkit variables and equations:"
   ]
  },
  {
   "cell_type": "code",
   "execution_count": 2,
   "metadata": {},
   "outputs": [
    {
     "name": "stdout",
     "output_type": "stream",
     "text": [
      "5.0.0\n"
     ]
    }
   ],
   "source": [
    "#import pkg_resources\n",
    "#pkg_resources.require(\"ipywidgets==4.1.1\")\n",
    "import ipywidgets\n",
    "print ipywidgets.__version__\n",
    "\n",
    "import numpy as np\n",
    "import gpkit\n",
    "import gpkit.interactive"
   ]
  },
  {
   "cell_type": "code",
   "execution_count": 3,
   "metadata": {},
   "outputs": [
    {
     "name": "stdout",
     "output_type": "stream",
     "text": [
      "5.4.1\n"
     ]
    }
   ],
   "source": [
    "import IPython\n",
    "print IPython.__version__\n"
   ]
  },
  {
   "cell_type": "markdown",
   "metadata": {},
   "source": [
    "Next declare constants (including take-off and cruising speed, which will be 'swept' over a range of values):"
   ]
  },
  {
   "cell_type": "code",
   "execution_count": 4,
   "metadata": {
    "collapsed": true
   },
   "outputs": [],
   "source": [
    "k = gpkit.Variable(\"k\", 1.2, \"-\", \"form factor\")\n",
    "e = gpkit.Variable(\"e\", 0.95, \"-\", \"Oswald efficiency factor\")\n",
    "# V = gpkit.Variable(\"V\", (\"sweep\", np.linspace(45, 55, 5)), \"m/s\", \"cruising speed\")  # sweep and autosweep dont work well together\n",
    "V = gpkit.Variable(\"V\", 50, \"m/s\", \"cruising speed\")\n",
    "pi = gpkit.Variable(\"\\\\pi\", np.pi, \"-\", \"half of the circle constant\")\n",
    "mu = gpkit.Variable(\"\\\\mu\", 1.78e-5, \"kg/m/s\", \"viscosity of air\")\n",
    "rho = gpkit.Variable(\"\\\\rho\", 1.23, \"kg/m^3\", \"density of air\")\n",
    "tau = gpkit.Variable(\"\\\\tau\", 0.12, \"-\", \"airfoil thickness to chord ratio\")\n",
    "W_0 = gpkit.Variable(\"W_0\", 4940.0, \"N\", \"aircraft weight excluding wing\")\n",
    "CDA0 = gpkit.Variable(\"(CDA0)\", 0.031, \"m^2\", \"fuselage drag area\")\n",
    "N_ult = gpkit.Variable(\"N_{ult}\", 3.8, \"-\", \"ultimate load factor\")\n",
    "# V_min = gpkit.Variable(\"V_{min}\", (\"sweep\", np.linspace(20, 25, 5)), \"m/s\", \"takeoff speed\")\n",
    "V_min = gpkit.Variable(\"V_{min}\", 22, \"m/s\", \"takeoff speed\")\n",
    "C_Lmax = gpkit.Variable(\"C_{L,max}\", 1.5, \"-\", \"max CL with flaps down\")\n",
    "S_wetratio = gpkit.Variable(\"(\\\\frac{S}{S_{wet}})\", 2.05, \"-\", \"wetted area ratio\")"
   ]
  },
  {
   "cell_type": "markdown",
   "metadata": {},
   "source": [
    "Then declare the rest of the variables (there's no need to separate variables and constants like this, I just find it a little more readable):"
   ]
  },
  {
   "cell_type": "code",
   "execution_count": 5,
   "metadata": {
    "collapsed": true
   },
   "outputs": [],
   "source": [
    "D = gpkit.Variable(\"D\", \"N\", \"total drag force\")\n",
    "A = gpkit.Variable(\"A\", \"-\", \"aspect ratio\")\n",
    "S = gpkit.Variable(\"S\", \"m^2\", \"total wing area\")\n",
    "W = gpkit.Variable(\"W\", \"N\", \"total aircraft weight\")\n",
    "Re = gpkit.Variable(\"Re\", \"-\", \"Reynold's number\")\n",
    "W_w = gpkit.Variable(\"W_w\", \"N\", \"wing weight\")\n",
    "C_D = gpkit.Variable(\"C_D\", \"-\", \"Drag coefficient of wing\")\n",
    "C_L = gpkit.Variable(\"C_L\", \"-\", \"Lift coefficent of wing\")\n",
    "C_f = gpkit.Variable(\"C_f\", \"-\", \"skin friction coefficient\")"
   ]
  },
  {
   "cell_type": "markdown",
   "metadata": {},
   "source": [
    "LaTex makes it easier to check one's equations (note the use of == to form an equality constraint):"
   ]
  },
  {
   "cell_type": "code",
   "execution_count": 6,
   "metadata": {},
   "outputs": [
    {
     "data": {
      "text/latex": [
       "$$D = 0.5C_D S V^{2} \\rho$$"
      ],
      "text/plain": [
       "gpkit.MonomialEquality(D = 0.5*C_D*S*V**2*\\rho)"
      ]
     },
     "execution_count": 6,
     "metadata": {},
     "output_type": "execute_result"
    }
   ],
   "source": [
    "D == 0.5*rho*S*C_D*V**2"
   ]
  },
  {
   "cell_type": "markdown",
   "metadata": {},
   "source": [
    "## 2. Write the system's equations\n",
    "\n",
    "The drag and wing-weight models consist of several sub-models, so we'll write them here for convenience:"
   ]
  },
  {
   "cell_type": "code",
   "execution_count": 7,
   "metadata": {
    "collapsed": true
   },
   "outputs": [],
   "source": [
    "equations = []\n",
    "\n",
    "C_D_fuse = CDA0/S                                   # Fuselage viscous drag\n",
    "C_D_wpar = k*C_f*S_wetratio                         # wing parasitic drag\n",
    "C_D_ind = C_L**2/(pi*A*e)                           # and induced drag\n",
    "equations += [C_D >= C_D_fuse + C_D_wpar + C_D_ind] # together make a drag model\n",
    "\n",
    "\n",
    "W_w_strc = (8.71e-5*1/gpkit.units.m)*(N_ult*A**1.5*(W_0*W*S)**0.5)/tau # A model for the wing's structural members\n",
    "W_w_surf = (45.24*gpkit.units.N/gpkit.units.m**2)*S                    # and the weight of the wing's 'skin'\n",
    "equations += [W_w >= W_w_surf + W_w_strc]                              # form a model of total wing weight"
   ]
  },
  {
   "cell_type": "markdown",
   "metadata": {},
   "source": [
    "Then we'll write the rest of the system's equations:"
   ]
  },
  {
   "cell_type": "code",
   "execution_count": 8,
   "metadata": {
    "collapsed": true
   },
   "outputs": [],
   "source": [
    "equations += [D >= 0.5*rho*S*C_D*V**2,        # the definition of C_D\n",
    "              Re <= (rho/mu)*V*(S/A)**0.5,    # the definition of Reynold's number\n",
    "              C_f >= 0.074/Re**0.2,           # a skin friction model\n",
    "              W <= 0.5*rho*S*C_L*V**2,        # a cruising lift constraint\n",
    "              W <= 0.5*rho*S*C_Lmax*V_min**2, # a takeoff lift constraint\n",
    "              W >= W_0 + W_w]                 # the definition of aircraft weight"
   ]
  },
  {
   "cell_type": "code",
   "execution_count": 9,
   "metadata": {
    "collapsed": true
   },
   "outputs": [],
   "source": [
    "m = gpkit.Model(D,         # Minimize cruising drag\n",
    "                equations) # subject to our model"
   ]
  },
  {
   "cell_type": "markdown",
   "metadata": {},
   "source": [
    "We can check that we've got the right equations by examining the LaTex representation of the system:"
   ]
  },
  {
   "cell_type": "code",
   "execution_count": 10,
   "metadata": {},
   "outputs": [
    {
     "data": {
      "text/latex": [
       "$$\\begin{array}{ll} \\text{}\n",
       "\\text{minimize}\n",
       "    & D \\\\\n",
       "\\text{subject to}\n",
       "    & C_D \\geq (\\frac{S}{S_{wet}}) C_f k + \\frac{(CDA0)}{S} + \\frac{C_L^{2}}{A \\pi e} \\\\\n",
       "    & W_w \\geq 45.24S + 8.71 \\times 10^{-5}\\frac{A^{1.5} N_{ult} S^{0.5} W^{0.5} W_0^{0.5}}{\\tau} \\\\\n",
       "    & D \\geq 0.5C_D S V^{2} \\rho \\\\\n",
       "    & Re \\leq \\frac{S^{0.5} V \\rho}{A^{0.5} \\mu} \\\\\n",
       "    & C_f \\geq \\frac{0.074}{Re^{0.2}} \\\\\n",
       "    & W \\leq 0.5C_L S V^{2} \\rho \\\\\n",
       "    & W \\leq 0.5C_{L,max} S V_{min}^{2} \\rho \\\\\n",
       "    & W \\geq W_0 + W_w \\\\\n",
       "\\end{array}$$"
      ],
      "text/plain": [
       "gpkit.Model(\n",
       "  # minimize\n",
       "        D\n",
       "  # subject to\n",
       "        C_D >= (CDA0)*S**-1 + (\\frac{S}{S_{wet}})*C_f*k + A**-1*C_L**2*\\pi**-1*e**-1\n",
       "        W_w >= 45.2*S + 8.71e-05*A**1.5*N_{ult}*S**0.5*W**0.5*W_0**0.5*\\tau**-1\n",
       "        D >= 0.5*C_D*S*V**2*\\rho\n",
       "        Re <= A**-0.5*S**0.5*V*\\mu**-1*\\rho\n",
       "        C_f >= 0.074*Re**-0.2\n",
       "        W <= 0.5*C_L*S*V**2*\\rho\n",
       "        W <= 0.5*C_{L,max}*S*V_{min}**2*\\rho\n",
       "        W >= W_0 + W_w)"
      ]
     },
     "execution_count": 10,
     "metadata": {},
     "output_type": "execute_result"
    }
   ],
   "source": [
    "m"
   ]
  },
  {
   "cell_type": "markdown",
   "metadata": {},
   "source": [
    "## 3. Solve the system"
   ]
  },
  {
   "cell_type": "code",
   "execution_count": 11,
   "metadata": {},
   "outputs": [
    {
     "name": "stdout",
     "output_type": "stream",
     "text": [
      "Using solver 'cvxopt'\n",
      "Solving for 9 variables.\n",
      "Solving took 0.0946 seconds.\n",
      "\n",
      "Cost\n",
      "----\n",
      " 334.8 [N] \n",
      "\n",
      "Free Variables\n",
      "--------------\n",
      "  A : 6.45              aspect ratio\n",
      "C_D : 0.01473           Drag coefficient of wing\n",
      "C_L : 0.2904            Lift coefficent of wing\n",
      "C_f : 0.003354          skin friction coefficient\n",
      "  D : 334.8      [N]    total drag force\n",
      " Re : 5.231e+06         Reynold's number\n",
      "  S : 14.78      [m**2] total wing area\n",
      "  W : 6601       [N]    total aircraft weight\n",
      "W_w : 1661       [N]    wing weight\n",
      "\n",
      "Constants\n",
      "---------\n",
      "             (CDA0) : 0.031     [m**2]    fuselage drag area\n",
      "(\\frac{S}{S_{wet}}) : 2.05                wetted area ratio\n",
      "          C_{L,max} : 1.5                 max CL with flaps down\n",
      "            N_{ult} : 3.8                 ultimate load factor\n",
      "                  V : 50        [m/s]     cruising speed\n",
      "            V_{min} : 22        [m/s]     takeoff speed\n",
      "                W_0 : 4940      [N]       aircraft weight excluding wing\n",
      "                \\mu : 1.78e-05  [kg/m/s]  viscosity of air\n",
      "                \\pi : 3.142               half of the circle constant\n",
      "               \\rho : 1.23      [kg/m**3] density of air\n",
      "               \\tau : 0.12                airfoil thickness to chord ratio\n",
      "                  e : 0.95                Oswald efficiency factor\n",
      "                  k : 1.2                 form factor\n",
      "\n",
      "Sensitivities\n",
      "-------------\n",
      "                W_0 : +0.88 aircraft weight excluding wing\n",
      "            V_{min} : -0.79 takeoff speed\n",
      "                  V : +0.7  cruising speed\n",
      "(\\frac{S}{S_{wet}}) : +0.56 wetted area ratio\n",
      "                  k : +0.56 form factor\n",
      "          C_{L,max} : -0.4  max CL with flaps down\n",
      "                \\pi : -0.3  half of the circle constant\n",
      "                  e : -0.3  Oswald efficiency factor\n",
      "            N_{ult} : +0.16 ultimate load factor\n",
      "               \\tau : -0.16 airfoil thickness to chord ratio\n",
      "             (CDA0) : +0.14 fuselage drag area\n",
      "                \\mu : +0.11 viscosity of air\n",
      "               \\rho : -0.1  density of air\n",
      "\n"
     ]
    }
   ],
   "source": [
    "data = m.solve()\n",
    "print data.table()"
   ]
  },
  {
   "cell_type": "code",
   "execution_count": 16,
   "metadata": {
    "scrolled": false
   },
   "outputs": [
    {
     "name": "stdout",
     "output_type": "stream",
     "text": [
      "\n",
      "Cost\n",
      "----\n",
      " 334.8 [N] \n",
      "\n",
      "Free Variables\n",
      "--------------\n",
      "A : 6.45          aspect ratio\n",
      "S : 14.78  [m**2] total wing area\n",
      "W : 6601   [N]    total aircraft weight\n",
      "\n",
      "Sensitivities\n",
      "-------------\n",
      "   k : +0.56 form factor\n",
      " \\mu : +0.11 viscosity of air\n",
      "\\rho : -0.1  density of air\n",
      "\n",
      "Next Largest Sensitivities\n",
      "--------------------------\n",
      "    W_0 : +0.88 aircraft weight excluding wing\n",
      "V_{min} : -0.79 takeoff speed\n",
      "      V : +0.7  cruising speed\n",
      "\n",
      "Solved after  9 passes, cost logtol +/-0.000337\n",
      "Autosweeping took 0.193 seconds.\n",
      "Solved after  9 passes, cost logtol +/-0.000337\n",
      "Autosweeping took 0.144 seconds.\n"
     ]
    },
    {
     "ename": "AttributeError",
     "evalue": "'Model' object has no attribute 'interactive'",
     "output_type": "error",
     "traceback": [
      "\u001b[0;31m---------------------------------------------------------------------------\u001b[0m",
      "\u001b[0;31mAttributeError\u001b[0m                            Traceback (most recent call last)",
      "\u001b[0;32m<ipython-input-16-c13dc8e46b7f>\u001b[0m in \u001b[0;36m<module>\u001b[0;34m()\u001b[0m\n\u001b[1;32m      9\u001b[0m \u001b[0;31m#ax.set_title(\"blah\")\u001b[0m\u001b[0;34m\u001b[0m\u001b[0;34m\u001b[0m\u001b[0m\n\u001b[1;32m     10\u001b[0m \u001b[0;31m#f.show()\u001b[0m\u001b[0;34m\u001b[0m\u001b[0;34m\u001b[0m\u001b[0m\n\u001b[0;32m---> 11\u001b[0;31m \u001b[0mm\u001b[0m\u001b[0;34m.\u001b[0m\u001b[0minteractive\u001b[0m\u001b[0;34m(\u001b[0m\u001b[0;34m[\u001b[0m\u001b[0mk\u001b[0m\u001b[0;34m,\u001b[0m \u001b[0mmu\u001b[0m\u001b[0;34m,\u001b[0m \u001b[0mrho\u001b[0m\u001b[0;34m,\u001b[0m \u001b[0mA\u001b[0m\u001b[0;34m,\u001b[0m \u001b[0mS\u001b[0m\u001b[0;34m,\u001b[0m \u001b[0mW\u001b[0m\u001b[0;34m]\u001b[0m\u001b[0;34m)\u001b[0m\u001b[0;34m\u001b[0m\u001b[0m\n\u001b[0m",
      "\u001b[0;31mAttributeError\u001b[0m: 'Model' object has no attribute 'interactive'"
     ]
    },
    {
     "data": {
      "image/png": "[encoded data removed]",
      "text/plain": [
       "<matplotlib.figure.Figure at 0x7884520d27d0>"
      ]
     },
     "metadata": {
      "image/png": {
       "height": 300,
       "width": 316
      }
     },
     "output_type": "display_data"
    },
    {
     "data": {
      "image/png": "[encoded data removed]",
      "text/plain": [
       "<matplotlib.figure.Figure at 0x7884520da810>"
      ]
     },
     "metadata": {
      "image/png": {
       "height": 295,
       "width": 310
      }
     },
     "output_type": "display_data"
    }
   ],
   "source": [
    "%matplotlib inline        \n",
    "                            # optional, displays plots in notebook\n",
    "%config InlineBackend.figure_format = 'retina'\n",
    "m.controlpanel([k, mu, rho, A, S, W])  # currently broken due to ipywidgets 6.0.0 update\n",
    "m.autosweep({rho: (0.8, 1.6)}, tol=0.001).plot(W)  # variable inside plot is y axis, default is cost\n",
    "m.autosweep({rho: (0.8, 1.6)}, tol=0.001).plot()\n",
    "#sol = m.autosweep({rho: (0.8, 1.6)}, tol=0.001, verbosity=0)\n",
    "#f, ax = sol.plot(W)\n",
    "#ax.set_title(\"blah\")\n",
    "#f.show()\n",
    "m.interactive([k, mu, rho, A, S, W])"
   ]
  },
  {
   "cell_type": "markdown",
   "metadata": {},
   "source": [
    "## 4. Analyze the system's optimal frontier\n",
    "\n",
    "GPkit uses matplotlib to visualize the optimal ('Pareto') frontier of a system.\n",
    "\n",
    "We'll start up the iPython Notebook plotting environment so we can use them:"
   ]
  },
  {
   "cell_type": "markdown",
   "metadata": {},
   "source": [
    "Plotting any particular design variables is then quite straightforward:"
   ]
  },
  {
   "cell_type": "code",
   "execution_count": 14,
   "metadata": {},
   "outputs": [
    {
     "ename": "AttributeError",
     "evalue": "'module' object has no attribute 'plotting'",
     "output_type": "error",
     "traceback": [
      "\u001b[0;31m---------------------------------------------------------------------------\u001b[0m",
      "\u001b[0;31mAttributeError\u001b[0m                            Traceback (most recent call last)",
      "\u001b[0;32m<ipython-input-14-e1ca1b9ef6bf>\u001b[0m in \u001b[0;36m<module>\u001b[0;34m()\u001b[0m\n\u001b[0;32m----> 1\u001b[0;31m \u001b[0mgpkit\u001b[0m\u001b[0;34m.\u001b[0m\u001b[0minteractive\u001b[0m\u001b[0;34m.\u001b[0m\u001b[0mplotting\u001b[0m\u001b[0;34m.\u001b[0m\u001b[0mplot_frontiers\u001b[0m\u001b[0;34m(\u001b[0m\u001b[0mm\u001b[0m\u001b[0;34m,\u001b[0m \u001b[0;34m[\u001b[0m\u001b[0mD\u001b[0m\u001b[0;34m,\u001b[0m \u001b[0mC_D\u001b[0m\u001b[0;34m,\u001b[0m \u001b[0mC_L\u001b[0m\u001b[0;34m]\u001b[0m\u001b[0;34m,\u001b[0m \u001b[0;36m1\u001b[0m\u001b[0;34m,\u001b[0m \u001b[0;36m3\u001b[0m\u001b[0;34m,\u001b[0m \u001b[0;34m(\u001b[0m\u001b[0;36m5\u001b[0m\u001b[0;34m,\u001b[0m\u001b[0;36m5\u001b[0m\u001b[0;34m)\u001b[0m\u001b[0;34m)\u001b[0m\u001b[0;34m\u001b[0m\u001b[0m\n\u001b[0m",
      "\u001b[0;31mAttributeError\u001b[0m: 'module' object has no attribute 'plotting'"
     ]
    }
   ],
   "source": [
    "gpkit.interactive.plotting.plot_frontiers(m, [D, C_D, C_L], 1, 3, (5,5))"
   ]
  },
  {
   "cell_type": "markdown",
   "metadata": {},
   "source": [
    "We can see that drag does not increase with cruising speed as drastically as might have been expected.\n",
    "\n",
    "This is because (under the assumptions of our equations) increasing speed allows one to fly with a smaller and lighter wing.\n",
    "\n",
    "But don't believe me, take a look at the graphs!"
   ]
  },
  {
   "cell_type": "code",
   "execution_count": 15,
   "metadata": {
    "scrolled": true
   },
   "outputs": [
    {
     "ename": "AttributeError",
     "evalue": "'module' object has no attribute 'plotting'",
     "output_type": "error",
     "traceback": [
      "\u001b[0;31m---------------------------------------------------------------------------\u001b[0m",
      "\u001b[0;31mAttributeError\u001b[0m                            Traceback (most recent call last)",
      "\u001b[0;32m<ipython-input-15-f7b270b5aaf8>\u001b[0m in \u001b[0;36m<module>\u001b[0;34m()\u001b[0m\n\u001b[0;32m----> 1\u001b[0;31m \u001b[0mgpkit\u001b[0m\u001b[0;34m.\u001b[0m\u001b[0minteractive\u001b[0m\u001b[0;34m.\u001b[0m\u001b[0mplotting\u001b[0m\u001b[0;34m.\u001b[0m\u001b[0mplot_frontiers\u001b[0m\u001b[0;34m(\u001b[0m\u001b[0mm\u001b[0m\u001b[0;34m,\u001b[0m \u001b[0;34m[\u001b[0m\u001b[0mW_w\u001b[0m\u001b[0;34m,\u001b[0m \u001b[0mS\u001b[0m\u001b[0;34m,\u001b[0m \u001b[0mA\u001b[0m\u001b[0;34m]\u001b[0m\u001b[0;34m,\u001b[0m \u001b[0;36m1\u001b[0m\u001b[0;34m,\u001b[0m \u001b[0;36m3\u001b[0m\u001b[0;34m,\u001b[0m \u001b[0;34m(\u001b[0m\u001b[0;36m5\u001b[0m\u001b[0;34m,\u001b[0m\u001b[0;36m5\u001b[0m\u001b[0;34m)\u001b[0m\u001b[0;34m)\u001b[0m\u001b[0;34m\u001b[0m\u001b[0m\n\u001b[0m",
      "\u001b[0;31mAttributeError\u001b[0m: 'module' object has no attribute 'plotting'"
     ]
    }
   ],
   "source": [
    "gpkit.interactive.plotting.plot_frontiers(m, [W_w, S, A], 1, 3, (5,5))"
   ]
  },
  {
   "cell_type": "code",
   "execution_count": 3,
   "metadata": {},
   "outputs": [
    {
     "data": {
      "text/plain": [
       "array([ 1.        ,  1.01104669,  1.02221541,  1.03350751,  1.04492435,\n",
       "        1.05646731,  1.06813778,  1.07993717,  1.0918669 ,  1.10392842,\n",
       "        1.11612317,  1.12845264,  1.14091831,  1.15352168,  1.16626428,\n",
       "        1.17914765,  1.19217333,  1.2053429 ,  1.21865795,  1.23212009,\n",
       "        1.24573094,  1.25949215,  1.27340537,  1.28747228,  1.30169459,\n",
       "        1.31607401,  1.33061228,  1.34531114,  1.36017238,  1.37519778,\n",
       "        1.39038917,  1.40574837,  1.42127724,  1.43697765,  1.4528515 ,\n",
       "        1.4689007 ,  1.4851272 ,  1.50153294,  1.51811991,  1.53489012,\n",
       "        1.55184557,  1.56898833,  1.58632046,  1.60384406,  1.62156123,\n",
       "        1.63947412,  1.65758488,  1.67589571,  1.69440882,  1.71312643,\n",
       "        1.73205081,  1.75118424,  1.77052903,  1.79008752,  1.80986207,\n",
       "        1.82985505,  1.8500689 ,  1.87050604,  1.89116895,  1.91206011,\n",
       "        1.93318204,  1.95453731,  1.97612848,  1.99795817,  2.02002899,\n",
       "        2.04234363,  2.06490477,  2.08771514,  2.11077749,  2.13409459,\n",
       "        2.15766928,  2.18150439,  2.20560279,  2.22996741,  2.25460117,\n",
       "        2.27950706,  2.30468807,  2.33014725,  2.35588767,  2.38191243,\n",
       "        2.40822469,  2.4348276 ,  2.46172439,  2.4889183 ,  2.51641262,\n",
       "        2.54421065,  2.57231576,  2.60073134,  2.62946082,  2.65850766,\n",
       "        2.68787538,  2.71756751,  2.74758764,  2.7779394 ,  2.80862644,\n",
       "        2.83965247,  2.87102123,  2.90273652,  2.93480216,  2.96722201,  3.        ])"
      ]
     },
     "execution_count": 3,
     "metadata": {},
     "output_type": "execute_result"
    }
   ],
   "source": [
    "from numpy import logspace, log, log10, random\n",
    "u = logspace(0, log10(3), 101)\n",
    "u"
   ]
  },
  {
   "cell_type": "markdown",
   "metadata": {},
   "source": [
    "------------------\n",
    "_This example was written by Edward Burnell (eburn@mit.edu), who welcomes any comments or suggestions._"
   ]
  }
 ],
 "metadata": {
  "kernelspec": {
   "display_name": "Python 2",
   "language": "python",
   "name": "python2"
  },
  "language_info": {
   "codemirror_mode": {
    "name": "ipython",
    "version": 2
   },
   "file_extension": ".py",
   "mimetype": "text/x-python",
   "name": "python",
   "nbconvert_exporter": "python",
   "pygments_lexer": "ipython2",
   "version": "2.7.12"
  }
 },
 "nbformat": 4,
 "nbformat_minor": 1
}
