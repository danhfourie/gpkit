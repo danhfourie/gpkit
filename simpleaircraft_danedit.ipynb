{
 "cells": [
  {
   "cell_type": "markdown",
   "metadata": {},
   "source": [
    "# GPkit Example: Simple Aircraft Modeling\n",
    "-----------------------------------\n",
    "\n",
    "_Based on \"Geometric Programming for Aircraft Design Optimization\" by Hoburg and Abbeel, and using [GPkit](https://github.com/appliedopt/gpkit) for model representation and solver interfacing._\n",
    "\n",
    "### Design objective\n",
    "\n",
    "An airplane with that consumes as little fuel as possible when cruising (while remaining capable of taking off from the ground, with wings that won't break, etc.)\n",
    "\n",
    "## 1. Set up the modeling environment\n",
    "\n",
    "Start by importing Numpy and GPkit, and turning on LaTex printing for GPkit variables and equations:"
   ]
  },
  {
   "cell_type": "code",
   "execution_count": 67,
   "metadata": {
    "collapsed": true
   },
   "outputs": [],
   "source": [
    "import numpy as np\n",
    "import gpkit\n",
    "import gpkit.interactive"
   ]
  },
  {
   "cell_type": "markdown",
   "metadata": {},
   "source": [
    "Next declare constants (including take-off and cruising speed, which will be 'swept' over a range of values):"
   ]
  },
  {
   "cell_type": "code",
   "execution_count": 68,
   "metadata": {
    "collapsed": true
   },
   "outputs": [],
   "source": [
    "k = gpkit.Variable(\"k\", 1.2, \"-\", \"form factor\")\n",
    "e = gpkit.Variable(\"e\", 0.95, \"-\", \"Oswald efficiency factor\")\n",
    "V = gpkit.Variable(\"V\", (\"sweep\", np.linspace(45, 55, 5)), \"m/s\", \"cruising speed\")\n",
    "pi = gpkit.Variable(\"\\\\pi\", np.pi, \"-\", \"half of the circle constant\")\n",
    "mu = gpkit.Variable(\"\\\\mu\", 1.78e-5, \"kg/m/s\", \"viscosity of air\")\n",
    "rho = gpkit.Variable(\"\\\\rho\", 1.23, \"kg/m^3\", \"density of air\")\n",
    "tau = gpkit.Variable(\"\\\\tau\", 0.12, \"-\", \"airfoil thickness to chord ratio\")\n",
    "W_0 = gpkit.Variable(\"W_0\", 4940.0, \"N\", \"aircraft weight excluding wing\")\n",
    "CDA0 = gpkit.Variable(\"(CDA0)\", 0.031, \"m^2\", \"fuselage drag area\")\n",
    "N_ult = gpkit.Variable(\"N_{ult}\", 3.8, \"-\", \"ultimate load factor\")\n",
    "V_min = gpkit.Variable(\"V_{min}\", (\"sweep\", np.linspace(20, 25, 5)), \"m/s\", \"takeoff speed\")\n",
    "C_Lmax = gpkit.Variable(\"C_{L,max}\", 1.5, \"-\", \"max CL with flaps down\")\n",
    "S_wetratio = gpkit.Variable(\"(\\\\frac{S}{S_{wet}})\", 2.05, \"-\", \"wetted area ratio\")"
   ]
  },
  {
   "cell_type": "markdown",
   "metadata": {},
   "source": [
    "Then declare the rest of the variables (there's no need to separate variables and constants like this, I just find it a little more readable):"
   ]
  },
  {
   "cell_type": "code",
   "execution_count": 69,
   "metadata": {
    "collapsed": true
   },
   "outputs": [],
   "source": [
    "D = gpkit.Variable(\"D\", \"N\", \"total drag force\")\n",
    "A = gpkit.Variable(\"A\", \"-\", \"aspect ratio\")\n",
    "S = gpkit.Variable(\"S\", \"m^2\", \"total wing area\")\n",
    "W = gpkit.Variable(\"W\", \"N\", \"total aircraft weight\")\n",
    "Re = gpkit.Variable(\"Re\", \"-\", \"Reynold's number\")\n",
    "W_w = gpkit.Variable(\"W_w\", \"N\", \"wing weight\")\n",
    "C_D = gpkit.Variable(\"C_D\", \"-\", \"Drag coefficient of wing\")\n",
    "C_L = gpkit.Variable(\"C_L\", \"-\", \"Lift coefficent of wing\")\n",
    "C_f = gpkit.Variable(\"C_f\", \"-\", \"skin friction coefficient\")"
   ]
  },
  {
   "cell_type": "markdown",
   "metadata": {},
   "source": [
    "LaTex makes it easier to check one's equations (note the use of == to form an equality constraint):"
   ]
  },
  {
   "cell_type": "code",
   "execution_count": 70,
   "metadata": {},
   "outputs": [
    {
     "data": {
      "text/latex": [
       "$$D = 0.5C_D S V^{2} \\rho$$"
      ],
      "text/plain": [
       "gpkit.MonomialEquality(D = 0.5*C_D*S*V**2*\\rho)"
      ]
     },
     "execution_count": 70,
     "metadata": {},
     "output_type": "execute_result"
    }
   ],
   "source": [
    "D == 0.5*rho*S*C_D*V**2"
   ]
  },
  {
   "cell_type": "markdown",
   "metadata": {},
   "source": [
    "## 2. Write the system's equations\n",
    "\n",
    "The drag and wing-weight models consist of several sub-models, so we'll write them here for convenience:"
   ]
  },
  {
   "cell_type": "code",
   "execution_count": 71,
   "metadata": {
    "collapsed": true
   },
   "outputs": [],
   "source": [
    "equations = []\n",
    "\n",
    "C_D_fuse = CDA0/S                                   # Fuselage viscous drag\n",
    "C_D_wpar = k*C_f*S_wetratio                         # wing parasitic drag\n",
    "C_D_ind = C_L**2/(pi*A*e)                           # and induced drag\n",
    "equations += [C_D >= C_D_fuse + C_D_wpar + C_D_ind] # together make a drag model\n",
    "\n",
    "\n",
    "W_w_strc = (8.71e-5*1/gpkit.units.m)*(N_ult*A**1.5*(W_0*W*S)**0.5)/tau # A model for the wing's structural members\n",
    "W_w_surf = (45.24*gpkit.units.N/gpkit.units.m**2)*S                    # and the weight of the wing's 'skin'\n",
    "equations += [W_w >= W_w_surf + W_w_strc]                              # form a model of total wing weight"
   ]
  },
  {
   "cell_type": "markdown",
   "metadata": {},
   "source": [
    "Then we'll write the rest of the system's equations:"
   ]
  },
  {
   "cell_type": "code",
   "execution_count": 72,
   "metadata": {
    "collapsed": true
   },
   "outputs": [],
   "source": [
    "equations += [D >= 0.5*rho*S*C_D*V**2,        # the definition of C_D\n",
    "              Re <= (rho/mu)*V*(S/A)**0.5,    # the definition of Reynold's number\n",
    "              C_f >= 0.074/Re**0.2,           # a skin friction model\n",
    "              W <= 0.5*rho*S*C_L*V**2,        # a cruising lift constraint\n",
    "              W <= 0.5*rho*S*C_Lmax*V_min**2, # a takeoff lift constraint\n",
    "              W >= W_0 + W_w]                 # the definition of aircraft weight"
   ]
  },
  {
   "cell_type": "code",
   "execution_count": 73,
   "metadata": {
    "collapsed": true
   },
   "outputs": [],
   "source": [
    "m = gpkit.Model(D,         # Minimize cruising drag\n",
    "                equations) # subject to our model"
   ]
  },
  {
   "cell_type": "markdown",
   "metadata": {},
   "source": [
    "We can check that we've got the right equations by examining the LaTex representation of the system:"
   ]
  },
  {
   "cell_type": "code",
   "execution_count": 74,
   "metadata": {},
   "outputs": [
    {
     "data": {
      "text/latex": [
       "$$\\begin{array}{ll} \\text{}\n",
       "\\text{minimize}\n",
       "    & D \\\\\n",
       "\\text{subject to}\n",
       "    & C_D \\geq (\\frac{S}{S_{wet}}) C_f k + \\frac{(CDA0)}{S} + \\frac{C_L^{2}}{A \\pi e} \\\\\n",
       "    & W_w \\geq 45.24S + 8.71 \\times 10^{-5}\\frac{A^{1.5} N_{ult} S^{0.5} W^{0.5} W_0^{0.5}}{\\tau} \\\\\n",
       "    & D \\geq 0.5C_D S V^{2} \\rho \\\\\n",
       "    & Re \\leq \\frac{S^{0.5} V \\rho}{A^{0.5} \\mu} \\\\\n",
       "    & C_f \\geq \\frac{0.074}{Re^{0.2}} \\\\\n",
       "    & W \\leq 0.5C_L S V^{2} \\rho \\\\\n",
       "    & W \\leq 0.5C_{L,max} S V_{min}^{2} \\rho \\\\\n",
       "    & W \\geq W_0 + W_w \\\\\n",
       "\\end{array}$$"
      ],
      "text/plain": [
       "gpkit.Model(\n",
       "  # minimize\n",
       "        D\n",
       "  # subject to\n",
       "        C_D >= (CDA0)*S**-1 + (\\frac{S}{S_{wet}})*C_f*k + A**-1*C_L**2*\\pi**-1*e**-1\n",
       "        W_w >= 45.2*S + 8.71e-05*A**1.5*N_{ult}*S**0.5*W**0.5*W_0**0.5*\\tau**-1\n",
       "        D >= 0.5*C_D*S*V**2*\\rho\n",
       "        Re <= A**-0.5*S**0.5*V*\\mu**-1*\\rho\n",
       "        C_f >= 0.074*Re**-0.2\n",
       "        W <= 0.5*C_L*S*V**2*\\rho\n",
       "        W <= 0.5*C_{L,max}*S*V_{min}**2*\\rho\n",
       "        W >= W_0 + W_w)"
      ]
     },
     "execution_count": 74,
     "metadata": {},
     "output_type": "execute_result"
    }
   ],
   "source": [
    "m"
   ]
  },
  {
   "cell_type": "markdown",
   "metadata": {},
   "source": [
    "## 3. Solve the system"
   ]
  },
  {
   "cell_type": "code",
   "execution_count": 75,
   "metadata": {},
   "outputs": [
    {
     "name": "stdout",
     "output_type": "stream",
     "text": [
      "Solving over 25 passes.\n",
      "Sweeping took 0.563 seconds.\n",
      "\n",
      "Cost\n",
      "----\n",
      " [ 338       322       311       301      ... ] [N] \n",
      "\n",
      "Sweep Variables\n",
      "---------------\n",
      "      V : [ 45        45        45        45       ... ]  [m/s] cruising speed\n",
      "V_{min} : [ 20        21.2      22.5      23.8     ... ]  [m/s] takeoff speed\n",
      "\n",
      "Free Variables\n",
      "--------------\n",
      "  A : [ 6.2       6.86      7.53      8.19     ... ]         aspect ratio\n",
      "C_D : [ 0.0146    0.0157    0.0169    0.0182   ... ]         Drag coefficient of wing\n",
      "C_L : [ 0.296     0.334     0.375     0.418    ... ]         Lift coefficent of wing\n",
      "C_f : [ 0.00333   0.00341   0.00348   0.00355  ... ]         skin friction coefficient\n",
      "  D : [ 338       322       311       301      ... ]  [N]    total drag force\n",
      " Re : [ 5.38e+06  4.82e+06  4.35e+06  3.96e+06 ... ]         Reynold's number\n",
      "  S : [ 18.6      16.5      14.7      13.3     ... ]  [m**2] total wing area\n",
      "  W : [ 6.85e+03  6.85e+03  6.88e+03  6.92e+03 ... ]  [N]    total aircraft weight\n",
      "W_w : [ 1.91e+03  1.91e+03  1.94e+03  1.98e+03 ... ]  [N]    wing weight\n",
      "\n",
      "Constants\n",
      "---------\n",
      "             (CDA0) : 0.031     [m**2]    fuselage drag area\n",
      "(\\frac{S}{S_{wet}}) : 2.05                wetted area ratio\n",
      "          C_{L,max} : 1.5                 max CL with flaps down\n",
      "            N_{ult} : 3.8                 ultimate load factor\n",
      "                W_0 : 4940      [N]       aircraft weight excluding wing\n",
      "                \\mu : 1.78e-05  [kg/m/s]  viscosity of air\n",
      "                \\pi : 3.142               half of the circle constant\n",
      "               \\rho : 1.23      [kg/m**3] density of air\n",
      "               \\tau : 0.12                airfoil thickness to chord ratio\n",
      "                  e : 0.95                Oswald efficiency factor\n",
      "                  k : 1.2                 form factor\n",
      "\n",
      "Sensitivities\n",
      "-------------\n",
      "                W_0 : [ +0.92     +0.92     +0.93     +0.94    ... ] aircraft weight excluding wing\n",
      "            V_{min} : [ -0.82     -0.71     -0.61     -0.51    ... ] takeoff speed\n",
      "                  V : [ +0.59     +0.5      +0.42     +0.33    ... ] cruising speed\n",
      "(\\frac{S}{S_{wet}}) : [ +0.56     +0.53     +0.51     +0.48    ... ] wetted area ratio\n",
      "                  k : [ +0.56     +0.53     +0.51     +0.48    ... ] form factor\n",
      "          C_{L,max} : [ -0.41     -0.36     -0.3      -0.25    ... ] max CL with flaps down\n",
      "                \\pi : [ -0.32     -0.35     -0.37     -0.39    ... ] half of the circle constant\n",
      "                  e : [ -0.32     -0.35     -0.37     -0.39    ... ] Oswald efficiency factor\n",
      "            N_{ult} : [ +0.18     +0.2      +0.21     +0.23    ... ] ultimate load factor\n",
      "               \\tau : [ -0.18     -0.2      -0.21     -0.23    ... ] airfoil thickness to chord ratio\n",
      "             (CDA0) : [ +0.11     +0.12     +0.12     +0.13    ... ] fuselage drag area\n",
      "                \\mu : [ +0.11     +0.11     +0.1      +0.096   ... ] viscosity of air\n",
      "               \\rho : [ -0.17     -0.16     -0.14     -0.14    ... ] density of air\n",
      "\n"
     ]
    }
   ],
   "source": [
    "data = m.solve()\n",
    "print data.table()"
   ]
  },
  {
   "cell_type": "markdown",
   "metadata": {},
   "source": [
    "## 4. Analyze the system's optimal frontier\n",
    "\n",
    "GPkit uses matplotlib to visualize the optimal ('Pareto') frontier of a system.\n",
    "\n",
    "We'll start up the iPython Notebook plotting environment so we can use them:"
   ]
  },
  {
   "cell_type": "code",
   "execution_count": 76,
   "metadata": {
    "scrolled": false
   },
   "outputs": [
    {
     "ename": "ValueError",
     "evalue": "The truth value of an array with more than one element is ambiguous. Use a.any() or a.all()",
     "output_type": "error",
     "traceback": [
      "\u001b[0;31m---------------------------------------------------------------------------\u001b[0m",
      "\u001b[0;31mValueError\u001b[0m                                Traceback (most recent call last)",
      "\u001b[0;32m<ipython-input-76-498586e10ba4>\u001b[0m in \u001b[0;36m<module>\u001b[0;34m()\u001b[0m\n\u001b[1;32m      3\u001b[0m \u001b[0mget_ipython\u001b[0m\u001b[0;34m(\u001b[0m\u001b[0;34m)\u001b[0m\u001b[0;34m.\u001b[0m\u001b[0mmagic\u001b[0m\u001b[0;34m(\u001b[0m\u001b[0;34mu\"config InlineBackend.figure_format = 'retina'\"\u001b[0m\u001b[0;34m)\u001b[0m\u001b[0;34m\u001b[0m\u001b[0m\n\u001b[1;32m      4\u001b[0m \u001b[0;31m# m.controlpanel([k, mu, rho, A, S, W])  # currently broken\u001b[0m\u001b[0;34m\u001b[0m\u001b[0;34m\u001b[0m\u001b[0m\n\u001b[0;32m----> 5\u001b[0;31m \u001b[0msol\u001b[0m \u001b[0;34m=\u001b[0m \u001b[0mm\u001b[0m\u001b[0;34m.\u001b[0m\u001b[0mautosweep\u001b[0m\u001b[0;34m(\u001b[0m\u001b[0;34m{\u001b[0m\u001b[0mrho\u001b[0m\u001b[0;34m:\u001b[0m \u001b[0;34m(\u001b[0m\u001b[0;36m0.8\u001b[0m\u001b[0;34m,\u001b[0m \u001b[0;36m1.6\u001b[0m\u001b[0;34m)\u001b[0m\u001b[0;34m}\u001b[0m\u001b[0;34m,\u001b[0m \u001b[0mtol\u001b[0m\u001b[0;34m=\u001b[0m\u001b[0;36m0.001\u001b[0m\u001b[0;34m,\u001b[0m \u001b[0mverbosity\u001b[0m\u001b[0;34m=\u001b[0m\u001b[0;36m0\u001b[0m\u001b[0;34m)\u001b[0m\u001b[0;34m\u001b[0m\u001b[0m\n\u001b[0m\u001b[1;32m      6\u001b[0m \u001b[0mf\u001b[0m\u001b[0;34m,\u001b[0m \u001b[0max\u001b[0m \u001b[0;34m=\u001b[0m \u001b[0msol\u001b[0m\u001b[0;34m.\u001b[0m\u001b[0mplot\u001b[0m\u001b[0;34m(\u001b[0m\u001b[0mW\u001b[0m\u001b[0;34m)\u001b[0m\u001b[0;34m\u001b[0m\u001b[0m\n\u001b[1;32m      7\u001b[0m \u001b[0max\u001b[0m\u001b[0;34m.\u001b[0m\u001b[0mset_title\u001b[0m\u001b[0;34m(\u001b[0m\u001b[0;34m\"blah\"\u001b[0m\u001b[0;34m)\u001b[0m\u001b[0;34m\u001b[0m\u001b[0m\n",
      "\u001b[0;32m/usr/local/lib/python2.7/dist-packages/gpkit/constraints/model.pyc\u001b[0m in \u001b[0;36mautosweep\u001b[0;34m(self, sweeps, tol, samplepoints, **solveargs)\u001b[0m\n\u001b[1;32m    131\u001b[0m             \u001b[0msweepvar\u001b[0m \u001b[0;34m=\u001b[0m \u001b[0mself\u001b[0m\u001b[0;34m[\u001b[0m\u001b[0msweepvar\u001b[0m\u001b[0;34m]\u001b[0m\u001b[0;34m.\u001b[0m\u001b[0mkey\u001b[0m\u001b[0;34m\u001b[0m\u001b[0m\n\u001b[1;32m    132\u001b[0m             \u001b[0mstart\u001b[0m\u001b[0;34m,\u001b[0m \u001b[0mend\u001b[0m \u001b[0;34m=\u001b[0m \u001b[0msweepvals\u001b[0m\u001b[0;34m\u001b[0m\u001b[0m\n\u001b[0;32m--> 133\u001b[0;31m             \u001b[0mbst\u001b[0m \u001b[0;34m=\u001b[0m \u001b[0mautosweep_1d\u001b[0m\u001b[0;34m(\u001b[0m\u001b[0mself\u001b[0m\u001b[0;34m,\u001b[0m \u001b[0mtol\u001b[0m\u001b[0;34m,\u001b[0m \u001b[0msweepvar\u001b[0m\u001b[0;34m,\u001b[0m \u001b[0;34m[\u001b[0m\u001b[0mstart\u001b[0m\u001b[0;34m,\u001b[0m \u001b[0mend\u001b[0m\u001b[0;34m]\u001b[0m\u001b[0;34m,\u001b[0m \u001b[0;34m**\u001b[0m\u001b[0msolveargs\u001b[0m\u001b[0;34m)\u001b[0m\u001b[0;34m\u001b[0m\u001b[0m\n\u001b[0m\u001b[1;32m    134\u001b[0m             \u001b[0msols\u001b[0m\u001b[0;34m.\u001b[0m\u001b[0mappend\u001b[0m\u001b[0;34m(\u001b[0m\u001b[0mbst\u001b[0m\u001b[0;34m.\u001b[0m\u001b[0msample_at\u001b[0m\u001b[0;34m(\u001b[0m\u001b[0mnp\u001b[0m\u001b[0;34m.\u001b[0m\u001b[0mlinspace\u001b[0m\u001b[0;34m(\u001b[0m\u001b[0mstart\u001b[0m\u001b[0;34m,\u001b[0m \u001b[0mend\u001b[0m\u001b[0;34m,\u001b[0m \u001b[0msamplepoints\u001b[0m\u001b[0;34m)\u001b[0m\u001b[0;34m)\u001b[0m\u001b[0;34m)\u001b[0m\u001b[0;34m\u001b[0m\u001b[0m\n\u001b[1;32m    135\u001b[0m         \u001b[0;32mif\u001b[0m \u001b[0mlen\u001b[0m\u001b[0;34m(\u001b[0m\u001b[0msols\u001b[0m\u001b[0;34m)\u001b[0m \u001b[0;34m==\u001b[0m \u001b[0;36m1\u001b[0m\u001b[0;34m:\u001b[0m\u001b[0;34m\u001b[0m\u001b[0m\n",
      "\u001b[0;32m/usr/local/lib/python2.7/dist-packages/gpkit/tools/autosweep.pyc\u001b[0m in \u001b[0;36mautosweep_1d\u001b[0;34m(model, logtol, sweepvar, bounds, **solvekwargs)\u001b[0m\n\u001b[1;32m    234\u001b[0m         \u001b[0msols\u001b[0m\u001b[0;34m(\u001b[0m\u001b[0;34m)\u001b[0m\u001b[0;34m\u001b[0m\u001b[0m\n\u001b[1;32m    235\u001b[0m     \u001b[0mbst\u001b[0m \u001b[0;34m=\u001b[0m \u001b[0mBinarySweepTree\u001b[0m\u001b[0;34m(\u001b[0m\u001b[0mbounds\u001b[0m\u001b[0;34m,\u001b[0m \u001b[0mfirstsols\u001b[0m\u001b[0;34m,\u001b[0m \u001b[0msweepvar\u001b[0m\u001b[0;34m,\u001b[0m \u001b[0mmodel\u001b[0m\u001b[0;34m.\u001b[0m\u001b[0mcost\u001b[0m\u001b[0;34m)\u001b[0m\u001b[0;34m\u001b[0m\u001b[0m\n\u001b[0;32m--> 236\u001b[0;31m     \u001b[0mtol\u001b[0m \u001b[0;34m=\u001b[0m \u001b[0mrecurse_splits\u001b[0m\u001b[0;34m(\u001b[0m\u001b[0mmodel\u001b[0m\u001b[0;34m,\u001b[0m \u001b[0mbst\u001b[0m\u001b[0;34m,\u001b[0m \u001b[0msweepvar\u001b[0m\u001b[0;34m,\u001b[0m \u001b[0mlogtol\u001b[0m\u001b[0;34m,\u001b[0m \u001b[0msolvekwargs\u001b[0m\u001b[0;34m,\u001b[0m \u001b[0msols\u001b[0m\u001b[0;34m)\u001b[0m\u001b[0;34m\u001b[0m\u001b[0m\n\u001b[0m\u001b[1;32m    237\u001b[0m     \u001b[0mbst\u001b[0m\u001b[0;34m.\u001b[0m\u001b[0mnsols\u001b[0m \u001b[0;34m=\u001b[0m \u001b[0msols\u001b[0m\u001b[0;34m(\u001b[0m\u001b[0;34m)\u001b[0m  \u001b[0;31m# pylint: disable=attribute-defined-outside-init\u001b[0m\u001b[0;34m\u001b[0m\u001b[0m\n\u001b[1;32m    238\u001b[0m     \u001b[0;32mif\u001b[0m \u001b[0msolvekwargs\u001b[0m\u001b[0;34m[\u001b[0m\u001b[0;34m\"verbosity\"\u001b[0m\u001b[0;34m]\u001b[0m \u001b[0;34m>\u001b[0m \u001b[0;34m-\u001b[0m\u001b[0;36m1\u001b[0m\u001b[0;34m:\u001b[0m\u001b[0;34m\u001b[0m\u001b[0m\n",
      "\u001b[0;32m/usr/local/lib/python2.7/dist-packages/gpkit/tools/autosweep.pyc\u001b[0m in \u001b[0;36mrecurse_splits\u001b[0;34m(model, bst, variable, logtol, solvekwargs, sols)\u001b[0m\n\u001b[1;32m    248\u001b[0m \u001b[0;32mdef\u001b[0m \u001b[0mrecurse_splits\u001b[0m\u001b[0;34m(\u001b[0m\u001b[0mmodel\u001b[0m\u001b[0;34m,\u001b[0m \u001b[0mbst\u001b[0m\u001b[0;34m,\u001b[0m \u001b[0mvariable\u001b[0m\u001b[0;34m,\u001b[0m \u001b[0mlogtol\u001b[0m\u001b[0;34m,\u001b[0m \u001b[0msolvekwargs\u001b[0m\u001b[0;34m,\u001b[0m \u001b[0msols\u001b[0m\u001b[0;34m)\u001b[0m\u001b[0;34m:\u001b[0m\u001b[0;34m\u001b[0m\u001b[0m\n\u001b[1;32m    249\u001b[0m     \u001b[0;34m\"Recursively splits a BST until logtol is reached\"\u001b[0m\u001b[0;34m\u001b[0m\u001b[0m\n\u001b[0;32m--> 250\u001b[0;31m     \u001b[0mx\u001b[0m\u001b[0;34m,\u001b[0m \u001b[0mlb\u001b[0m\u001b[0;34m,\u001b[0m \u001b[0mub\u001b[0m \u001b[0;34m=\u001b[0m \u001b[0mget_tol\u001b[0m\u001b[0;34m(\u001b[0m\u001b[0mbst\u001b[0m\u001b[0;34m.\u001b[0m\u001b[0mcosts\u001b[0m\u001b[0;34m,\u001b[0m \u001b[0mbst\u001b[0m\u001b[0;34m.\u001b[0m\u001b[0mbounds\u001b[0m\u001b[0;34m,\u001b[0m \u001b[0mbst\u001b[0m\u001b[0;34m.\u001b[0m\u001b[0msols\u001b[0m\u001b[0;34m,\u001b[0m \u001b[0mvariable\u001b[0m\u001b[0;34m)\u001b[0m\u001b[0;34m\u001b[0m\u001b[0m\n\u001b[0m\u001b[1;32m    251\u001b[0m     \u001b[0mtol\u001b[0m \u001b[0;34m=\u001b[0m \u001b[0;34m(\u001b[0m\u001b[0mub\u001b[0m\u001b[0;34m-\u001b[0m\u001b[0mlb\u001b[0m\u001b[0;34m)\u001b[0m\u001b[0;34m/\u001b[0m\u001b[0;36m2.0\u001b[0m\u001b[0;34m\u001b[0m\u001b[0m\n\u001b[1;32m    252\u001b[0m     \u001b[0;32mif\u001b[0m \u001b[0mtol\u001b[0m \u001b[0;34m>=\u001b[0m \u001b[0mlogtol\u001b[0m\u001b[0;34m:\u001b[0m\u001b[0;34m\u001b[0m\u001b[0m\n",
      "\u001b[0;32m/usr/local/lib/python2.7/dist-packages/gpkit/tools/autosweep.pyc\u001b[0m in \u001b[0;36mget_tol\u001b[0;34m(costs, bounds, sols, variable)\u001b[0m\n\u001b[1;32m    275\u001b[0m     \u001b[0;31m# NOTE: several branches below deal with straight lines, where lower\u001b[0m\u001b[0;34m\u001b[0m\u001b[0;34m\u001b[0m\u001b[0m\n\u001b[1;32m    276\u001b[0m     \u001b[0;31m#       and upper bounds are identical and so x is undefined\u001b[0m\u001b[0;34m\u001b[0m\u001b[0;34m\u001b[0m\u001b[0m\n\u001b[0;32m--> 277\u001b[0;31m     \u001b[0;32mif\u001b[0m \u001b[0mdenom\u001b[0m \u001b[0;34m==\u001b[0m \u001b[0;36m0\u001b[0m\u001b[0;34m:\u001b[0m\u001b[0;34m\u001b[0m\u001b[0m\n\u001b[0m\u001b[1;32m    278\u001b[0m         \u001b[0;31m# mosek runs into this on perfect straight lines, num also equal to 0\u001b[0m\u001b[0;34m\u001b[0m\u001b[0;34m\u001b[0m\u001b[0m\n\u001b[1;32m    279\u001b[0m         \u001b[0;31m# mosek_cli also runs into this on near-straight lines, num ~= 0\u001b[0m\u001b[0;34m\u001b[0m\u001b[0;34m\u001b[0m\u001b[0m\n",
      "\u001b[0;31mValueError\u001b[0m: The truth value of an array with more than one element is ambiguous. Use a.any() or a.all()"
     ]
    }
   ],
   "source": [
    "%matplotlib inline        \n",
    "                            # optional, displays plots in notebook\n",
    "%config InlineBackend.figure_format = 'retina'\n",
    "# m.controlpanel([k, mu, rho, A, S, W])  # currently broken\n",
    "sol = m.autosweep({rho: (0.8, 1.6)}, tol=0.001, verbosity=0)\n",
    "f, ax = sol.plot(W)\n",
    "ax.set_title(\"blah\")\n",
    "f.show()\n",
    "# m.interactive([k, mu, rho, A, S, W])"
   ]
  },
  {
   "cell_type": "markdown",
   "metadata": {},
   "source": [
    "Plotting any particular design variables is then quite straightforward:"
   ]
  },
  {
   "cell_type": "code",
   "execution_count": null,
   "metadata": {},
   "outputs": [],
   "source": [
    "gpkit.interactive.plotting.plot_frontiers(m, [D, C_D, C_L], 1, 3, (5,5))"
   ]
  },
  {
   "cell_type": "markdown",
   "metadata": {},
   "source": [
    "We can see that drag does not increase with cruising speed as drastically as might have been expected.\n",
    "\n",
    "This is because (under the assumptions of our equations) increasing speed allows one to fly with a smaller and lighter wing.\n",
    "\n",
    "But don't believe me, take a look at the graphs!"
   ]
  },
  {
   "cell_type": "code",
   "execution_count": null,
   "metadata": {
    "collapsed": true
   },
   "outputs": [],
   "source": [
    "gpkit.interactive.plotting.plot_frontiers(m, [W_w, S, A], 1, 3, (5,5))"
   ]
  },
  {
   "cell_type": "markdown",
   "metadata": {},
   "source": [
    "------------------\n",
    "_This example was written by Edward Burnell (eburn@mit.edu), who welcomes any comments or suggestions._"
   ]
  }
 ],
 "metadata": {
  "kernelspec": {
   "display_name": "Python 2",
   "language": "python",
   "name": "python2"
  },
  "language_info": {
   "codemirror_mode": {
    "name": "ipython",
    "version": 2
   },
   "file_extension": ".py",
   "mimetype": "text/x-python",
   "name": "python",
   "nbconvert_exporter": "python",
   "pygments_lexer": "ipython2",
   "version": "2.7.12"
  }
 },
 "nbformat": 4,
 "nbformat_minor": 1
}
